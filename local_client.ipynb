{
 "cells": [
  {
   "cell_type": "code",
   "execution_count": 1,
   "id": "4a5ec5d9-da5f-4fb0-9b52-99f6283a93ae",
   "metadata": {},
   "outputs": [],
   "source": [
    "from dask.distributed import Client"
   ]
  },
  {
   "cell_type": "code",
   "execution_count": 7,
   "id": "334cbccd-1c54-405d-82a4-ed55ad693685",
   "metadata": {},
   "outputs": [],
   "source": [
    "client = Client('localhost:1234')"
   ]
  },
  {
   "cell_type": "code",
   "execution_count": 8,
   "id": "9fc248e4",
   "metadata": {},
   "outputs": [],
   "source": [
    "client.close()"
   ]
  },
  {
   "cell_type": "code",
   "execution_count": null,
   "id": "157f9460-f43b-49ae-81f0-25ead360beef",
   "metadata": {},
   "outputs": [],
   "source": [
    "prova = client.submit(lambda x: x, 113)"
   ]
  },
  {
   "cell_type": "code",
   "execution_count": 4,
   "id": "0e878615-f1c7-4c8e-8c4b-64c0a5c7db00",
   "metadata": {},
   "outputs": [
    {
     "data": {
      "text/html": [
       "<strong>Future: lambda</strong>\n",
       "<span style=\"color: var(--jp-ui-font-color2, gray)\"> status: </span>\n",
       "\n",
       "\n",
       "<span style=\"color: var(--jp-error-color0, black)\">finished</span>,\n",
       "\n",
       "\n",
       "\n",
       "<span style=\"color: var(--jp-ui-font-color2, gray)\"> type:</span> int,\n",
       "\n",
       "\n",
       "<span style=\"color: var(--jp-ui-font-color2, gray)\"> key:</span> lambda-f8f636feafecf0d58d3946b44a709cf6"
      ],
      "text/plain": [
       "<Future: finished, type: int, key: lambda-f8f636feafecf0d58d3946b44a709cf6>"
      ]
     },
     "execution_count": 4,
     "metadata": {},
     "output_type": "execute_result"
    }
   ],
   "source": [
    "prova"
   ]
  },
  {
   "cell_type": "code",
   "execution_count": 6,
   "id": "b8a7106d-072f-448d-a456-867e43e396b6",
   "metadata": {},
   "outputs": [
    {
     "data": {
      "text/plain": [
       "113"
      ]
     },
     "execution_count": 6,
     "metadata": {},
     "output_type": "execute_result"
    }
   ],
   "source": [
    "client.gather(prova)"
   ]
  },
  {
   "cell_type": "code",
   "execution_count": 6,
   "id": "b1088bc1-25c6-44af-942e-1dbf83075084",
   "metadata": {},
   "outputs": [],
   "source": [
    "client.close()"
   ]
  },
  {
   "cell_type": "markdown",
   "id": "6cdf472b",
   "metadata": {},
   "source": []
  },
  {
   "cell_type": "code",
   "execution_count": 1,
   "id": "dec924fb",
   "metadata": {},
   "outputs": [
    {
     "ename": "ModuleNotFoundError",
     "evalue": "No module named 'dask.distributed.hdfs'",
     "output_type": "error",
     "traceback": [
      "\u001b[31m---------------------------------------------------------------------------\u001b[39m",
      "\u001b[31mModuleNotFoundError\u001b[39m                       Traceback (most recent call last)",
      "\u001b[36mCell\u001b[39m\u001b[36m \u001b[39m\u001b[32mIn[1]\u001b[39m\u001b[32m, line 1\u001b[39m\n\u001b[32m----> \u001b[39m\u001b[32m1\u001b[39m \u001b[38;5;28;01mimport\u001b[39;00m\u001b[38;5;250m \u001b[39m\u001b[34;01mdask\u001b[39;00m\u001b[34;01m.\u001b[39;00m\u001b[34;01mdistributed\u001b[39;00m\u001b[34;01m.\u001b[39;00m\u001b[34;01mhdfs\u001b[39;00m\n",
      "\u001b[31mModuleNotFoundError\u001b[39m: No module named 'dask.distributed.hdfs'"
     ]
    }
   ],
   "source": [
    "import dask.distributed.hdfs"
   ]
  },
  {
   "cell_type": "code",
   "execution_count": 3,
   "id": "4a110163",
   "metadata": {},
   "outputs": [],
   "source": [
    "import dask.dataframe as dd\n",
    "prova = dd.read_csv('ssh://vm_master/home/ubuntu/pollo_resurrected.txt')"
   ]
  },
  {
   "cell_type": "code",
   "execution_count": 4,
   "id": "10f616e6",
   "metadata": {},
   "outputs": [
    {
     "data": {
      "text/html": [
       "<div><strong>Dask DataFrame Structure:</strong></div>\n",
       "<table border=\"1\" class=\"dataframe\">\n",
       "  <thead>\n",
       "    <tr style=\"text-align: right;\">\n",
       "      <th></th>\n",
       "      <th>1</th>\n",
       "      <th>2</th>\n",
       "      <th>3</th>\n",
       "      <th>4</th>\n",
       "    </tr>\n",
       "    <tr>\n",
       "      <th>npartitions=1</th>\n",
       "      <th></th>\n",
       "      <th></th>\n",
       "      <th></th>\n",
       "      <th></th>\n",
       "    </tr>\n",
       "  </thead>\n",
       "  <tbody>\n",
       "    <tr>\n",
       "      <th></th>\n",
       "      <td>int64</td>\n",
       "      <td>int64</td>\n",
       "      <td>int64</td>\n",
       "      <td>int64</td>\n",
       "    </tr>\n",
       "    <tr>\n",
       "      <th></th>\n",
       "      <td>...</td>\n",
       "      <td>...</td>\n",
       "      <td>...</td>\n",
       "      <td>...</td>\n",
       "    </tr>\n",
       "  </tbody>\n",
       "</table>\n",
       "<div>Dask Name: to_string_dtype, 2 expressions</div>"
      ],
      "text/plain": [
       "Dask DataFrame Structure:\n",
       "                   1      2      3      4\n",
       "npartitions=1                            \n",
       "               int64  int64  int64  int64\n",
       "                 ...    ...    ...    ...\n",
       "Dask Name: to_string_dtype, 2 expressions\n",
       "Expr=ArrowStringConversion(frame=FromMapProjectable(45e6131))"
      ]
     },
     "execution_count": 4,
     "metadata": {},
     "output_type": "execute_result"
    }
   ],
   "source": [
    "prova"
   ]
  },
  {
   "cell_type": "code",
   "execution_count": 19,
   "id": "ad38736a-72de-4ad5-b8f8-555a6bb8f235",
   "metadata": {},
   "outputs": [
    {
     "ename": "FileNotFoundError",
     "evalue": "An error occurred while calling the read_csv method registered to the pandas backend.\nOriginal Message: [Errno 2] No such file or directory: '/home/teobaldo/Uni/MAPD-Proj/pollo_resurrected.txt'",
     "output_type": "error",
     "traceback": [
      "\u001b[31m---------------------------------------------------------------------------\u001b[39m",
      "\u001b[31mFileNotFoundError\u001b[39m                         Traceback (most recent call last)",
      "\u001b[36mFile \u001b[39m\u001b[32m~/miniconda3/envs/mapd/lib/python3.13/site-packages/dask/backends.py:140\u001b[39m, in \u001b[36mCreationDispatch.register_inplace.<locals>.decorator.<locals>.wrapper\u001b[39m\u001b[34m(*args, **kwargs)\u001b[39m\n\u001b[32m    139\u001b[39m \u001b[38;5;28;01mtry\u001b[39;00m:\n\u001b[32m--> \u001b[39m\u001b[32m140\u001b[39m     \u001b[38;5;28;01mreturn\u001b[39;00m func(*args, **kwargs)\n\u001b[32m    141\u001b[39m \u001b[38;5;28;01mexcept\u001b[39;00m \u001b[38;5;167;01mException\u001b[39;00m \u001b[38;5;28;01mas\u001b[39;00m e:\n",
      "\u001b[36mFile \u001b[39m\u001b[32m~/miniconda3/envs/mapd/lib/python3.13/site-packages/dask/dataframe/io/csv.py:731\u001b[39m, in \u001b[36mmake_reader.<locals>.read\u001b[39m\u001b[34m(urlpath, blocksize, lineterminator, compression, sample, sample_rows, enforce, assume_missing, storage_options, include_path_column, **kwargs)\u001b[39m\n\u001b[32m    718\u001b[39m \u001b[38;5;28;01mdef\u001b[39;00m\u001b[38;5;250m \u001b[39m\u001b[34mread\u001b[39m(\n\u001b[32m    719\u001b[39m     urlpath,\n\u001b[32m    720\u001b[39m     blocksize=\u001b[33m\"\u001b[39m\u001b[33mdefault\u001b[39m\u001b[33m\"\u001b[39m,\n\u001b[32m   (...)\u001b[39m\u001b[32m    729\u001b[39m     **kwargs,\n\u001b[32m    730\u001b[39m ):\n\u001b[32m--> \u001b[39m\u001b[32m731\u001b[39m     \u001b[38;5;28;01mreturn\u001b[39;00m read_pandas(\n\u001b[32m    732\u001b[39m         reader,\n\u001b[32m    733\u001b[39m         urlpath,\n\u001b[32m    734\u001b[39m         blocksize=blocksize,\n\u001b[32m    735\u001b[39m         lineterminator=lineterminator,\n\u001b[32m    736\u001b[39m         compression=compression,\n\u001b[32m    737\u001b[39m         sample=sample,\n\u001b[32m    738\u001b[39m         sample_rows=sample_rows,\n\u001b[32m    739\u001b[39m         enforce=enforce,\n\u001b[32m    740\u001b[39m         assume_missing=assume_missing,\n\u001b[32m    741\u001b[39m         storage_options=storage_options,\n\u001b[32m    742\u001b[39m         include_path_column=include_path_column,\n\u001b[32m    743\u001b[39m         **kwargs,\n\u001b[32m    744\u001b[39m     )\n",
      "\u001b[36mFile \u001b[39m\u001b[32m~/miniconda3/envs/mapd/lib/python3.13/site-packages/dask/dataframe/io/csv.py:524\u001b[39m, in \u001b[36mread_pandas\u001b[39m\u001b[34m(reader, urlpath, blocksize, lineterminator, compression, sample, sample_rows, enforce, assume_missing, storage_options, include_path_column, **kwargs)\u001b[39m\n\u001b[32m    523\u001b[39m     sample = blocksize\n\u001b[32m--> \u001b[39m\u001b[32m524\u001b[39m b_out = read_bytes(\n\u001b[32m    525\u001b[39m     urlpath,\n\u001b[32m    526\u001b[39m     delimiter=b_lineterminator,\n\u001b[32m    527\u001b[39m     blocksize=blocksize,\n\u001b[32m    528\u001b[39m     sample=sample,\n\u001b[32m    529\u001b[39m     compression=compression,\n\u001b[32m    530\u001b[39m     include_path=include_path_column,\n\u001b[32m    531\u001b[39m     **(storage_options \u001b[38;5;129;01mor\u001b[39;00m {}),\n\u001b[32m    532\u001b[39m )\n\u001b[32m    534\u001b[39m \u001b[38;5;28;01mif\u001b[39;00m include_path_column:\n",
      "\u001b[36mFile \u001b[39m\u001b[32m~/miniconda3/envs/mapd/lib/python3.13/site-packages/dask/bytes/core.py:111\u001b[39m, in \u001b[36mread_bytes\u001b[39m\u001b[34m(urlpath, delimiter, not_zero, blocksize, sample, compression, include_path, **kwargs)\u001b[39m\n\u001b[32m    107\u001b[39m     \u001b[38;5;28;01mraise\u001b[39;00m \u001b[38;5;167;01mValueError\u001b[39;00m(\n\u001b[32m    108\u001b[39m         \u001b[33m\"\u001b[39m\u001b[33mCannot do chunked reads on compressed files. \u001b[39m\u001b[33m\"\u001b[39m\n\u001b[32m    109\u001b[39m         \u001b[33m\"\u001b[39m\u001b[33mTo read, set blocksize=None\u001b[39m\u001b[33m\"\u001b[39m\n\u001b[32m    110\u001b[39m     )\n\u001b[32m--> \u001b[39m\u001b[32m111\u001b[39m size = fs.info(path)[\u001b[33m\"\u001b[39m\u001b[33msize\u001b[39m\u001b[33m\"\u001b[39m]\n\u001b[32m    112\u001b[39m \u001b[38;5;28;01mif\u001b[39;00m size \u001b[38;5;129;01mis\u001b[39;00m \u001b[38;5;28;01mNone\u001b[39;00m:\n",
      "\u001b[36mFile \u001b[39m\u001b[32m~/miniconda3/envs/mapd/lib/python3.13/site-packages/fsspec/implementations/local.py:101\u001b[39m, in \u001b[36mLocalFileSystem.info\u001b[39m\u001b[34m(self, path, **kwargs)\u001b[39m\n\u001b[32m    100\u001b[39m path = \u001b[38;5;28mself\u001b[39m._strip_protocol(path)\n\u001b[32m--> \u001b[39m\u001b[32m101\u001b[39m out = os.stat(path, follow_symlinks=\u001b[38;5;28;01mFalse\u001b[39;00m)\n\u001b[32m    102\u001b[39m link = stat.S_ISLNK(out.st_mode)\n",
      "\u001b[31mFileNotFoundError\u001b[39m: [Errno 2] No such file or directory: '/home/teobaldo/Uni/MAPD-Proj/pollo_resurrected.txt'",
      "\nThe above exception was the direct cause of the following exception:\n",
      "\u001b[31mFileNotFoundError\u001b[39m                         Traceback (most recent call last)",
      "\u001b[36mCell\u001b[39m\u001b[36m \u001b[39m\u001b[32mIn[19]\u001b[39m\u001b[32m, line 2\u001b[39m\n\u001b[32m      1\u001b[39m \u001b[38;5;28;01mimport\u001b[39;00m\u001b[38;5;250m \u001b[39m\u001b[34;01mdask\u001b[39;00m\u001b[34;01m.\u001b[39;00m\u001b[34;01mdataframe\u001b[39;00m\u001b[38;5;250m \u001b[39m\u001b[38;5;28;01mas\u001b[39;00m\u001b[38;5;250m \u001b[39m\u001b[34;01mdd\u001b[39;00m\n\u001b[32m----> \u001b[39m\u001b[32m2\u001b[39m ddf = client.submit(dd.read_csv(\u001b[33m'\u001b[39m\u001b[33mpollo_resurrected.txt\u001b[39m\u001b[33m'\u001b[39m,\n\u001b[32m      3\u001b[39m     header=\u001b[38;5;28;01mNone\u001b[39;00m,\n\u001b[32m      4\u001b[39m     assume_missing=\u001b[38;5;28;01mTrue\u001b[39;00m,\n\u001b[32m      5\u001b[39m     dtype=\u001b[38;5;28mobject\u001b[39m,\n\u001b[32m      6\u001b[39m ))\n",
      "\u001b[36mFile \u001b[39m\u001b[32m~/miniconda3/envs/mapd/lib/python3.13/site-packages/dask/backends.py:151\u001b[39m, in \u001b[36mCreationDispatch.register_inplace.<locals>.decorator.<locals>.wrapper\u001b[39m\u001b[34m(*args, **kwargs)\u001b[39m\n\u001b[32m    149\u001b[39m     \u001b[38;5;28;01mraise\u001b[39;00m e\n\u001b[32m    150\u001b[39m \u001b[38;5;28;01melse\u001b[39;00m:\n\u001b[32m--> \u001b[39m\u001b[32m151\u001b[39m     \u001b[38;5;28;01mraise\u001b[39;00m exc \u001b[38;5;28;01mfrom\u001b[39;00m\u001b[38;5;250m \u001b[39m\u001b[34;01me\u001b[39;00m\n",
      "\u001b[31mFileNotFoundError\u001b[39m: An error occurred while calling the read_csv method registered to the pandas backend.\nOriginal Message: [Errno 2] No such file or directory: '/home/teobaldo/Uni/MAPD-Proj/pollo_resurrected.txt'"
     ]
    }
   ],
   "source": [
    "import dask.dataframe as dd\n",
    "ddf = client.submit(dd.read_csv('pollo_resurrected.txt',\n",
    "    header=None,\n",
    "    assume_missing=True,\n",
    "    dtype=object,\n",
    "))"
   ]
  },
  {
   "cell_type": "code",
   "execution_count": 11,
   "id": "9a0a1b28",
   "metadata": {},
   "outputs": [
    {
     "ename": "FileNotFoundError",
     "evalue": "[Errno 2] No such file or directory: '/home/teobaldo/Uni/MAPD-Proj/tcp:/vm_master:/home/ubuntu/pollo_resurrected.txt'",
     "output_type": "error",
     "traceback": [
      "\u001b[31m---------------------------------------------------------------------------\u001b[39m",
      "\u001b[31mFileNotFoundError\u001b[39m                         Traceback (most recent call last)",
      "\u001b[36mCell\u001b[39m\u001b[36m \u001b[39m\u001b[32mIn[11]\u001b[39m\u001b[32m, line 1\u001b[39m\n\u001b[32m----> \u001b[39m\u001b[32m1\u001b[39m ddd.take(\u001b[32m1\u001b[39m)\n",
      "\u001b[36mFile \u001b[39m\u001b[32m~/miniconda3/envs/mapd/lib/python3.13/site-packages/dask/bag/core.py:1469\u001b[39m, in \u001b[36mBag.take\u001b[39m\u001b[34m(self, k, npartitions, compute, warn)\u001b[39m\n\u001b[32m   1466\u001b[39m b = Bag(graph, name, \u001b[32m1\u001b[39m)\n\u001b[32m   1468\u001b[39m \u001b[38;5;28;01mif\u001b[39;00m compute:\n\u001b[32m-> \u001b[39m\u001b[32m1469\u001b[39m     \u001b[38;5;28;01mreturn\u001b[39;00m \u001b[38;5;28mtuple\u001b[39m(b.compute())\n\u001b[32m   1470\u001b[39m \u001b[38;5;28;01melse\u001b[39;00m:\n\u001b[32m   1471\u001b[39m     \u001b[38;5;28;01mreturn\u001b[39;00m b\n",
      "\u001b[36mFile \u001b[39m\u001b[32m~/miniconda3/envs/mapd/lib/python3.13/site-packages/dask/base.py:373\u001b[39m, in \u001b[36mDaskMethodsMixin.compute\u001b[39m\u001b[34m(self, **kwargs)\u001b[39m\n\u001b[32m    349\u001b[39m \u001b[38;5;28;01mdef\u001b[39;00m\u001b[38;5;250m \u001b[39m\u001b[34mcompute\u001b[39m(\u001b[38;5;28mself\u001b[39m, **kwargs):\n\u001b[32m    350\u001b[39m \u001b[38;5;250m    \u001b[39m\u001b[33;03m\"\"\"Compute this dask collection\u001b[39;00m\n\u001b[32m    351\u001b[39m \n\u001b[32m    352\u001b[39m \u001b[33;03m    This turns a lazy Dask collection into its in-memory equivalent.\u001b[39;00m\n\u001b[32m   (...)\u001b[39m\u001b[32m    371\u001b[39m \u001b[33;03m    dask.compute\u001b[39;00m\n\u001b[32m    372\u001b[39m \u001b[33;03m    \"\"\"\u001b[39;00m\n\u001b[32m--> \u001b[39m\u001b[32m373\u001b[39m     (result,) = compute(\u001b[38;5;28mself\u001b[39m, traverse=\u001b[38;5;28;01mFalse\u001b[39;00m, **kwargs)\n\u001b[32m    374\u001b[39m     \u001b[38;5;28;01mreturn\u001b[39;00m result\n",
      "\u001b[36mFile \u001b[39m\u001b[32m~/miniconda3/envs/mapd/lib/python3.13/site-packages/dask/base.py:681\u001b[39m, in \u001b[36mcompute\u001b[39m\u001b[34m(traverse, optimize_graph, scheduler, get, *args, **kwargs)\u001b[39m\n\u001b[32m    678\u001b[39m     expr = expr.optimize()\n\u001b[32m    679\u001b[39m     keys = \u001b[38;5;28mlist\u001b[39m(flatten(expr.__dask_keys__()))\n\u001b[32m--> \u001b[39m\u001b[32m681\u001b[39m     results = schedule(expr, keys, **kwargs)\n\u001b[32m    683\u001b[39m \u001b[38;5;28;01mreturn\u001b[39;00m repack(results)\n",
      "\u001b[36mFile \u001b[39m\u001b[32m~/miniconda3/envs/mapd/lib/python3.13/site-packages/dask/bag/text.py:166\u001b[39m, in \u001b[36mfile_to_blocks\u001b[39m\u001b[34m()\u001b[39m\n\u001b[32m    164\u001b[39m \u001b[38;5;28;01mdef\u001b[39;00m\u001b[38;5;250m \u001b[39m\u001b[34mfile_to_blocks\u001b[39m(include_path, lazy_file, delimiter=\u001b[38;5;28;01mNone\u001b[39;00m):\n\u001b[32m    165\u001b[39m     \u001b[38;5;66;03m# blocksize is None branch\u001b[39;00m\n\u001b[32m--> \u001b[39m\u001b[32m166\u001b[39m     \u001b[38;5;28;01mwith\u001b[39;00m lazy_file \u001b[38;5;28;01mas\u001b[39;00m f:\n\u001b[32m    167\u001b[39m         \u001b[38;5;28;01mif\u001b[39;00m delimiter \u001b[38;5;129;01mis\u001b[39;00m \u001b[38;5;129;01mnot\u001b[39;00m \u001b[38;5;28;01mNone\u001b[39;00m:\n\u001b[32m    168\u001b[39m             text = f.read()\n",
      "\u001b[36mFile \u001b[39m\u001b[32m~/miniconda3/envs/mapd/lib/python3.13/site-packages/fsspec/core.py:105\u001b[39m, in \u001b[36m__enter__\u001b[39m\u001b[34m()\u001b[39m\n\u001b[32m    102\u001b[39m mode = \u001b[38;5;28mself\u001b[39m.mode.replace(\u001b[33m\"\u001b[39m\u001b[33mt\u001b[39m\u001b[33m\"\u001b[39m, \u001b[33m\"\u001b[39m\u001b[33m\"\u001b[39m).replace(\u001b[33m\"\u001b[39m\u001b[33mb\u001b[39m\u001b[33m\"\u001b[39m, \u001b[33m\"\u001b[39m\u001b[33m\"\u001b[39m) + \u001b[33m\"\u001b[39m\u001b[33mb\u001b[39m\u001b[33m\"\u001b[39m\n\u001b[32m    104\u001b[39m \u001b[38;5;28;01mtry\u001b[39;00m:\n\u001b[32m--> \u001b[39m\u001b[32m105\u001b[39m     f = \u001b[38;5;28mself\u001b[39m.fs.open(\u001b[38;5;28mself\u001b[39m.path, mode=mode)\n\u001b[32m    106\u001b[39m \u001b[38;5;28;01mexcept\u001b[39;00m \u001b[38;5;167;01mFileNotFoundError\u001b[39;00m \u001b[38;5;28;01mas\u001b[39;00m e:\n\u001b[32m    107\u001b[39m     \u001b[38;5;28;01mif\u001b[39;00m has_magic(\u001b[38;5;28mself\u001b[39m.path):\n",
      "\u001b[36mFile \u001b[39m\u001b[32m~/miniconda3/envs/mapd/lib/python3.13/site-packages/fsspec/spec.py:1338\u001b[39m, in \u001b[36mopen\u001b[39m\u001b[34m()\u001b[39m\n\u001b[32m   1336\u001b[39m \u001b[38;5;28;01melse\u001b[39;00m:\n\u001b[32m   1337\u001b[39m     ac = kwargs.pop(\u001b[33m\"\u001b[39m\u001b[33mautocommit\u001b[39m\u001b[33m\"\u001b[39m, \u001b[38;5;129;01mnot\u001b[39;00m \u001b[38;5;28mself\u001b[39m._intrans)\n\u001b[32m-> \u001b[39m\u001b[32m1338\u001b[39m     f = \u001b[38;5;28mself\u001b[39m._open(\n\u001b[32m   1339\u001b[39m         path,\n\u001b[32m   1340\u001b[39m         mode=mode,\n\u001b[32m   1341\u001b[39m         block_size=block_size,\n\u001b[32m   1342\u001b[39m         autocommit=ac,\n\u001b[32m   1343\u001b[39m         cache_options=cache_options,\n\u001b[32m   1344\u001b[39m         **kwargs,\n\u001b[32m   1345\u001b[39m     )\n\u001b[32m   1346\u001b[39m     \u001b[38;5;28;01mif\u001b[39;00m compression \u001b[38;5;129;01mis\u001b[39;00m \u001b[38;5;129;01mnot\u001b[39;00m \u001b[38;5;28;01mNone\u001b[39;00m:\n\u001b[32m   1347\u001b[39m         \u001b[38;5;28;01mfrom\u001b[39;00m\u001b[38;5;250m \u001b[39m\u001b[34;01mfsspec\u001b[39;00m\u001b[34;01m.\u001b[39;00m\u001b[34;01mcompression\u001b[39;00m\u001b[38;5;250m \u001b[39m\u001b[38;5;28;01mimport\u001b[39;00m compr\n",
      "\u001b[36mFile \u001b[39m\u001b[32m~/miniconda3/envs/mapd/lib/python3.13/site-packages/fsspec/implementations/local.py:206\u001b[39m, in \u001b[36m_open\u001b[39m\u001b[34m()\u001b[39m\n\u001b[32m    204\u001b[39m \u001b[38;5;28;01mif\u001b[39;00m \u001b[38;5;28mself\u001b[39m.auto_mkdir \u001b[38;5;129;01mand\u001b[39;00m \u001b[33m\"\u001b[39m\u001b[33mw\u001b[39m\u001b[33m\"\u001b[39m \u001b[38;5;129;01min\u001b[39;00m mode:\n\u001b[32m    205\u001b[39m     \u001b[38;5;28mself\u001b[39m.makedirs(\u001b[38;5;28mself\u001b[39m._parent(path), exist_ok=\u001b[38;5;28;01mTrue\u001b[39;00m)\n\u001b[32m--> \u001b[39m\u001b[32m206\u001b[39m \u001b[38;5;28;01mreturn\u001b[39;00m LocalFileOpener(path, mode, fs=\u001b[38;5;28mself\u001b[39m, **kwargs)\n",
      "\u001b[36mFile \u001b[39m\u001b[32m~/miniconda3/envs/mapd/lib/python3.13/site-packages/fsspec/implementations/local.py:383\u001b[39m, in \u001b[36m__init__\u001b[39m\u001b[34m()\u001b[39m\n\u001b[32m    381\u001b[39m \u001b[38;5;28mself\u001b[39m.compression = get_compression(path, compression)\n\u001b[32m    382\u001b[39m \u001b[38;5;28mself\u001b[39m.blocksize = io.DEFAULT_BUFFER_SIZE\n\u001b[32m--> \u001b[39m\u001b[32m383\u001b[39m \u001b[38;5;28mself\u001b[39m._open()\n",
      "\u001b[36mFile \u001b[39m\u001b[32m~/miniconda3/envs/mapd/lib/python3.13/site-packages/fsspec/implementations/local.py:388\u001b[39m, in \u001b[36m_open\u001b[39m\u001b[34m()\u001b[39m\n\u001b[32m    386\u001b[39m \u001b[38;5;28;01mif\u001b[39;00m \u001b[38;5;28mself\u001b[39m.f \u001b[38;5;129;01mis\u001b[39;00m \u001b[38;5;28;01mNone\u001b[39;00m \u001b[38;5;129;01mor\u001b[39;00m \u001b[38;5;28mself\u001b[39m.f.closed:\n\u001b[32m    387\u001b[39m     \u001b[38;5;28;01mif\u001b[39;00m \u001b[38;5;28mself\u001b[39m.autocommit \u001b[38;5;129;01mor\u001b[39;00m \u001b[33m\"\u001b[39m\u001b[33mw\u001b[39m\u001b[33m\"\u001b[39m \u001b[38;5;129;01mnot\u001b[39;00m \u001b[38;5;129;01min\u001b[39;00m \u001b[38;5;28mself\u001b[39m.mode:\n\u001b[32m--> \u001b[39m\u001b[32m388\u001b[39m         \u001b[38;5;28mself\u001b[39m.f = \u001b[38;5;28mopen\u001b[39m(\u001b[38;5;28mself\u001b[39m.path, mode=\u001b[38;5;28mself\u001b[39m.mode)\n\u001b[32m    389\u001b[39m         \u001b[38;5;28;01mif\u001b[39;00m \u001b[38;5;28mself\u001b[39m.compression:\n\u001b[32m    390\u001b[39m             compress = compr[\u001b[38;5;28mself\u001b[39m.compression]\n",
      "\u001b[31mFileNotFoundError\u001b[39m: [Errno 2] No such file or directory: '/home/teobaldo/Uni/MAPD-Proj/tcp:/vm_master:/home/ubuntu/pollo_resurrected.txt'"
     ]
    }
   ],
   "source": [
    "ddd.take(1)"
   ]
  }
 ],
 "metadata": {
  "kernelspec": {
   "display_name": "mapd",
   "language": "python",
   "name": "python3"
  },
  "language_info": {
   "codemirror_mode": {
    "name": "ipython",
    "version": 3
   },
   "file_extension": ".py",
   "mimetype": "text/x-python",
   "name": "python",
   "nbconvert_exporter": "python",
   "pygments_lexer": "ipython3",
   "version": "undefined.undefined.undefined"
  }
 },
 "nbformat": 4,
 "nbformat_minor": 5
}
