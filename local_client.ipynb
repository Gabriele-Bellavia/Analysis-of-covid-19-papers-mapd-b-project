{
 "cells": [
  {
   "cell_type": "code",
   "execution_count": 1,
   "id": "4a5ec5d9-da5f-4fb0-9b52-99f6283a93ae",
   "metadata": {},
   "outputs": [],
   "source": [
    "from dask.distributed import Client"
   ]
  },
  {
   "cell_type": "code",
   "execution_count": 7,
   "id": "334cbccd-1c54-405d-82a4-ed55ad693685",
   "metadata": {},
   "outputs": [],
   "source": [
    "client = Client('localhost:1234')"
   ]
  },
  {
   "cell_type": "code",
   "execution_count": 13,
   "id": "157f9460-f43b-49ae-81f0-25ead360beef",
   "metadata": {},
   "outputs": [],
   "source": [
    "prova = client.submit(lambda x: x, 113)"
   ]
  },
  {
   "cell_type": "code",
   "execution_count": 14,
   "id": "0e878615-f1c7-4c8e-8c4b-64c0a5c7db00",
   "metadata": {},
   "outputs": [
    {
     "data": {
      "text/html": [
       "<strong>Future: lambda</strong>\n",
       "<span style=\"color: var(--jp-ui-font-color2, gray)\"> status: </span>\n",
       "\n",
       "\n",
       "<span style=\"color: var(--jp-error-color0, black)\">finished</span>,\n",
       "\n",
       "\n",
       "\n",
       "<span style=\"color: var(--jp-ui-font-color2, gray)\"> type:</span> int,\n",
       "\n",
       "\n",
       "<span style=\"color: var(--jp-ui-font-color2, gray)\"> key:</span> lambda-d795fbce10d904113aa2431865b1964b"
      ],
      "text/plain": [
       "<Future: finished, type: int, key: lambda-d795fbce10d904113aa2431865b1964b>"
      ]
     },
     "execution_count": 14,
     "metadata": {},
     "output_type": "execute_result"
    }
   ],
   "source": [
    "prova"
   ]
  },
  {
   "cell_type": "code",
   "execution_count": 15,
   "id": "b8a7106d-072f-448d-a456-867e43e396b6",
   "metadata": {},
   "outputs": [
    {
     "data": {
      "text/plain": [
       "113"
      ]
     },
     "execution_count": 15,
     "metadata": {},
     "output_type": "execute_result"
    }
   ],
   "source": [
    "client.gather(prova)"
   ]
  },
  {
   "cell_type": "code",
   "execution_count": 16,
   "id": "b1088bc1-25c6-44af-942e-1dbf83075084",
   "metadata": {},
   "outputs": [],
   "source": [
    "client.close()"
   ]
  },
  {
   "cell_type": "code",
   "execution_count": null,
   "id": "ad38736a-72de-4ad5-b8f8-555a6bb8f235",
   "metadata": {},
   "outputs": [],
   "source": []
  }
 ],
 "metadata": {
  "kernelspec": {
   "display_name": "mapd",
   "language": "python",
   "name": "python3"
  },
  "language_info": {
   "codemirror_mode": {
    "name": "ipython",
    "version": 3
   },
   "file_extension": ".py",
   "mimetype": "text/x-python",
   "name": "python",
   "nbconvert_exporter": "python",
   "pygments_lexer": "ipython3",
   "version": "3.13.5"
  }
 },
 "nbformat": 4,
 "nbformat_minor": 5
}
